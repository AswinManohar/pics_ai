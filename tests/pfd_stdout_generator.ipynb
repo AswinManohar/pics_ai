{
 "cells": [
  {
   "cell_type": "code",
   "execution_count": null,
   "metadata": {
    "collapsed": true
   },
   "outputs": [],
   "source": [
    "import sys\n",
    "import subprocess\n",
    "import numpy as np\n",
    "\n",
    "def pfd_stdout(num):\n",
    "    num=int(num)\n",
    "    with open('J1857+0943_PSR_1857+0943.pfd', 'r') as f:\n",
    "        for i in range(num):\n",
    "            sys.stdout.flush(f)\n",
    "        \n",
    "def main():\n",
    "    pfd_stdout(sys.argv[1])\n",
    "if __name__ == '__main__':\n",
    "    main()"
   ]
  }
 ],
 "metadata": {
  "kernelspec": {
   "display_name": "Python 2",
   "language": "python",
   "name": "python2"
  },
  "language_info": {
   "codemirror_mode": {
    "name": "ipython",
    "version": 2
   },
   "file_extension": ".py",
   "mimetype": "text/x-python",
   "name": "python",
   "nbconvert_exporter": "python",
   "pygments_lexer": "ipython2",
   "version": "2.7.14"
  }
 },
 "nbformat": 4,
 "nbformat_minor": 2
}
